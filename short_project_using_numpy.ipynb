{
 "cells": [
  {
   "cell_type": "markdown",
   "id": "5fda8331",
   "metadata": {},
   "source": [
    "### Airport Cabs Data Analysis"
   ]
  },
  {
   "cell_type": "code",
   "execution_count": 1,
   "id": "7fbd8986",
   "metadata": {},
   "outputs": [],
   "source": [
    "import numpy as np"
   ]
  },
  {
   "cell_type": "code",
   "execution_count": 7,
   "id": "daf9b1e5",
   "metadata": {},
   "outputs": [
    {
     "data": {
      "text/plain": [
       "array([[2.016e+03, 1.000e+00, 1.000e+00, ..., 1.165e+01, 6.999e+01,\n",
       "        1.000e+00],\n",
       "       [2.016e+03, 1.000e+00, 1.000e+00, ..., 8.000e+00, 5.430e+01,\n",
       "        1.000e+00],\n",
       "       [2.016e+03, 1.000e+00, 1.000e+00, ..., 0.000e+00, 3.780e+01,\n",
       "        2.000e+00],\n",
       "       ...,\n",
       "       [2.016e+03, 6.000e+00, 3.000e+01, ..., 5.000e+00, 6.334e+01,\n",
       "        1.000e+00],\n",
       "       [2.016e+03, 6.000e+00, 3.000e+01, ..., 8.950e+00, 4.475e+01,\n",
       "        1.000e+00],\n",
       "       [2.016e+03, 6.000e+00, 3.000e+01, ..., 0.000e+00, 5.484e+01,\n",
       "        2.000e+00]])"
      ]
     },
     "execution_count": 7,
     "metadata": {},
     "output_type": "execute_result"
    }
   ],
   "source": [
    "taxi = np.genfromtxt('nyc_taxis.csv',delimiter = ',',skip_header = True)\n",
    "\n",
    "taxi"
   ]
  },
  {
   "cell_type": "markdown",
   "id": "16a2a020",
   "metadata": {},
   "source": [
    "#### 1. What is the mean speed of the cab rides?"
   ]
  },
  {
   "cell_type": "code",
   "execution_count": 8,
   "id": "1751e1c8",
   "metadata": {},
   "outputs": [],
   "source": [
    "# calculate the speed as its not given \n",
    "speed = taxi[:,7]/(taxi[:,8]/3600)"
   ]
  },
  {
   "cell_type": "code",
   "execution_count": 9,
   "id": "817533be",
   "metadata": {},
   "outputs": [
    {
     "name": "stdout",
     "output_type": "stream",
     "text": [
      "32.24258580925573\n"
     ]
    }
   ],
   "source": [
    "mean_speed = speed.mean()\n",
    "\n",
    "print(mean_speed)"
   ]
  },
  {
   "cell_type": "markdown",
   "id": "aa848c86",
   "metadata": {},
   "source": [
    "#### 2. Calculate the no. of rides taken in the month of feb. \n",
    ">**Note:** **Feb is given by the 2 month column**"
   ]
  },
  {
   "cell_type": "code",
   "execution_count": 10,
   "id": "6462994c",
   "metadata": {},
   "outputs": [
    {
     "name": "stdout",
     "output_type": "stream",
     "text": [
      "13333\n"
     ]
    }
   ],
   "source": [
    "rides_feb = taxi[taxi[:,1] == 2,1]\n",
    "print(rides_feb.shape[0])"
   ]
  },
  {
   "cell_type": "markdown",
   "id": "72282683",
   "metadata": {},
   "source": [
    "#### 3. Calculate the no. of rides w/ a tip greater than $50"
   ]
  },
  {
   "cell_type": "code",
   "execution_count": 11,
   "id": "0da6a0f0",
   "metadata": {},
   "outputs": [
    {
     "name": "stdout",
     "output_type": "stream",
     "text": [
      "16\n"
     ]
    }
   ],
   "source": [
    "print(taxi[taxi[:,-3] > 50, -3].shape[0])"
   ]
  },
  {
   "cell_type": "markdown",
   "id": "27720225",
   "metadata": {},
   "source": [
    "#### 4. Calculate the no. of rides where drop was JFK airport."
   ]
  },
  {
   "cell_type": "code",
   "execution_count": 12,
   "id": "07012a5d",
   "metadata": {},
   "outputs": [
    {
     "name": "stdout",
     "output_type": "stream",
     "text": [
      "11832\n"
     ]
    }
   ],
   "source": [
    "print(taxi[taxi[:,6] == 2,6].shape[0])"
   ]
  }
 ],
 "metadata": {
  "kernelspec": {
   "display_name": "Python 3 (ipykernel)",
   "language": "python",
   "name": "python3"
  },
  "language_info": {
   "codemirror_mode": {
    "name": "ipython",
    "version": 3
   },
   "file_extension": ".py",
   "mimetype": "text/x-python",
   "name": "python",
   "nbconvert_exporter": "python",
   "pygments_lexer": "ipython3",
   "version": "3.11.5"
  }
 },
 "nbformat": 4,
 "nbformat_minor": 5
}
