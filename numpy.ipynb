{
  "nbformat": 4,
  "nbformat_minor": 0,
  "metadata": {
    "colab": {
      "provenance": [],
      "authorship_tag": "ABX9TyOHtkQVjvkOgTbSPhnk/x0B",
      "include_colab_link": true
    },
    "kernelspec": {
      "name": "python3",
      "display_name": "Python 3"
    },
    "language_info": {
      "name": "python"
    }
  },
  "cells": [
    {
      "cell_type": "markdown",
      "metadata": {
        "id": "view-in-github",
        "colab_type": "text"
      },
      "source": [
        "<a href=\"https://colab.research.google.com/github/Shalini006Minj/Airport-Cabs-Data-Analysis/blob/main/numpy.ipynb\" target=\"_parent\"><img src=\"https://colab.research.google.com/assets/colab-badge.svg\" alt=\"Open In Colab\"/></a>"
      ]
    },
    {
      "cell_type": "code",
      "execution_count": null,
      "metadata": {
        "id": "1t3wrflp3l2i"
      },
      "outputs": [],
      "source": [
        "import numpy as np"
      ]
    },
    {
      "cell_type": "code",
      "source": [
        "a = np.array([[1,2,3],[4,5,6]])\n",
        "a.shape\n",
        "# output 2 row and 3 columns"
      ],
      "metadata": {
        "colab": {
          "base_uri": "https://localhost:8080/"
        },
        "id": "eRMcLOpz3wUn",
        "outputId": "9fe1b029-c7be-4ee9-dd1a-14d41f65fe55"
      },
      "execution_count": null,
      "outputs": [
        {
          "output_type": "execute_result",
          "data": {
            "text/plain": [
              "(2, 3)"
            ]
          },
          "metadata": {},
          "execution_count": 2
        }
      ]
    },
    {
      "cell_type": "markdown",
      "source": [
        "# Methods in numpy\n",
        "\n",
        "While manually creating NumPy arrays is useful for small examples, there are many inbuilt NumPy methods for creating arrays that can save you a lot of time and effort when working with larger datasets"
      ],
      "metadata": {
        "id": "cEsUDgDiqCu4"
      }
    },
    {
      "cell_type": "code",
      "source": [
        "a = np.zeros(10)\n",
        "a"
      ],
      "metadata": {
        "colab": {
          "base_uri": "https://localhost:8080/"
        },
        "id": "1APL5SX3pMRe",
        "outputId": "b8618acb-89a5-4f2b-f565-fc13bcc36413"
      },
      "execution_count": null,
      "outputs": [
        {
          "output_type": "execute_result",
          "data": {
            "text/plain": [
              "array([0., 0., 0., 0., 0., 0., 0., 0., 0., 0.])"
            ]
          },
          "metadata": {},
          "execution_count": 84
        }
      ]
    },
    {
      "cell_type": "code",
      "source": [
        "a = np.ones([2,6])\n",
        "a"
      ],
      "metadata": {
        "colab": {
          "base_uri": "https://localhost:8080/"
        },
        "id": "8lreBAempjhZ",
        "outputId": "3c076083-fe16-4c99-9c58-2d3c7d3791e0"
      },
      "execution_count": null,
      "outputs": [
        {
          "output_type": "execute_result",
          "data": {
            "text/plain": [
              "array([[1., 1., 1., 1., 1., 1.],\n",
              "       [1., 1., 1., 1., 1., 1.]])"
            ]
          },
          "metadata": {},
          "execution_count": 88
        }
      ]
    },
    {
      "cell_type": "code",
      "source": [
        "a = np.ones(10)\n",
        "a"
      ],
      "metadata": {
        "colab": {
          "base_uri": "https://localhost:8080/"
        },
        "id": "5hQuADp8pR_V",
        "outputId": "b42deb5e-1fc8-46d8-83d1-3de20c0d5276"
      },
      "execution_count": null,
      "outputs": [
        {
          "output_type": "execute_result",
          "data": {
            "text/plain": [
              "array([1., 1., 1., 1., 1., 1., 1., 1., 1., 1.])"
            ]
          },
          "metadata": {},
          "execution_count": 85
        }
      ]
    },
    {
      "cell_type": "code",
      "source": [
        "a = np.zeros([2,4])\n",
        "a"
      ],
      "metadata": {
        "colab": {
          "base_uri": "https://localhost:8080/"
        },
        "id": "VMd6kGfQpWmP",
        "outputId": "a0699b21-8c79-4040-b517-c78ea820a35e"
      },
      "execution_count": null,
      "outputs": [
        {
          "output_type": "execute_result",
          "data": {
            "text/plain": [
              "array([[0., 0., 0., 0.],\n",
              "       [0., 0., 0., 0.]])"
            ]
          },
          "metadata": {},
          "execution_count": 87
        }
      ]
    },
    {
      "cell_type": "code",
      "source": [
        "a = np.arange(5)\n",
        "a"
      ],
      "metadata": {
        "colab": {
          "base_uri": "https://localhost:8080/"
        },
        "id": "c0ThbwMDqaF-",
        "outputId": "1838a05b-73d8-4676-c09d-4411ebc7624b"
      },
      "execution_count": null,
      "outputs": [
        {
          "output_type": "execute_result",
          "data": {
            "text/plain": [
              "array([0, 1, 2, 3, 4])"
            ]
          },
          "metadata": {},
          "execution_count": 89
        }
      ]
    },
    {
      "cell_type": "code",
      "source": [
        "a = np.arange(2,50,2)\n",
        "a"
      ],
      "metadata": {
        "colab": {
          "base_uri": "https://localhost:8080/"
        },
        "id": "fuPAkLo6qp83",
        "outputId": "58dc3d08-5a78-42e5-fd54-b43efb3394f6"
      },
      "execution_count": null,
      "outputs": [
        {
          "output_type": "execute_result",
          "data": {
            "text/plain": [
              "array([ 2,  4,  6,  8, 10, 12, 14, 16, 18, 20, 22, 24, 26, 28, 30, 32, 34,\n",
              "       36, 38, 40, 42, 44, 46, 48])"
            ]
          },
          "metadata": {},
          "execution_count": 90
        }
      ]
    },
    {
      "cell_type": "code",
      "source": [
        "# 2D array with arange()\n",
        "a = np.arange(2,50,2).reshape(6,4)\n",
        "a"
      ],
      "metadata": {
        "colab": {
          "base_uri": "https://localhost:8080/"
        },
        "id": "V1srQqQ8qqMV",
        "outputId": "a45e041d-4ecc-4a4e-df5d-7285e6bde0db"
      },
      "execution_count": null,
      "outputs": [
        {
          "output_type": "execute_result",
          "data": {
            "text/plain": [
              "array([[ 2,  4,  6,  8],\n",
              "       [10, 12, 14, 16],\n",
              "       [18, 20, 22, 24],\n",
              "       [26, 28, 30, 32],\n",
              "       [34, 36, 38, 40],\n",
              "       [42, 44, 46, 48]])"
            ]
          },
          "metadata": {},
          "execution_count": 93
        }
      ]
    },
    {
      "cell_type": "code",
      "source": [
        "# np.linspace() : s a function in NumPy that returns an array of evenly spaced values over a specified range\n",
        "a = np.linspace(0,50,endpoint=False) # in here endpoint i.e number 50 is excluded\n",
        "print(a)\n",
        "\n",
        "b = np.linspace(0,50) # in here number 50 is included\n",
        "print(b)"
      ],
      "metadata": {
        "colab": {
          "base_uri": "https://localhost:8080/"
        },
        "id": "l7oulrCqqqPP",
        "outputId": "b5c11101-8797-41fb-8a11-e21fde1d3b22"
      },
      "execution_count": null,
      "outputs": [
        {
          "output_type": "stream",
          "name": "stdout",
          "text": [
            "[ 0.  1.  2.  3.  4.  5.  6.  7.  8.  9. 10. 11. 12. 13. 14. 15. 16. 17.\n",
            " 18. 19. 20. 21. 22. 23. 24. 25. 26. 27. 28. 29. 30. 31. 32. 33. 34. 35.\n",
            " 36. 37. 38. 39. 40. 41. 42. 43. 44. 45. 46. 47. 48. 49.]\n",
            "[ 0.          1.02040816  2.04081633  3.06122449  4.08163265  5.10204082\n",
            "  6.12244898  7.14285714  8.16326531  9.18367347 10.20408163 11.2244898\n",
            " 12.24489796 13.26530612 14.28571429 15.30612245 16.32653061 17.34693878\n",
            " 18.36734694 19.3877551  20.40816327 21.42857143 22.44897959 23.46938776\n",
            " 24.48979592 25.51020408 26.53061224 27.55102041 28.57142857 29.59183673\n",
            " 30.6122449  31.63265306 32.65306122 33.67346939 34.69387755 35.71428571\n",
            " 36.73469388 37.75510204 38.7755102  39.79591837 40.81632653 41.83673469\n",
            " 42.85714286 43.87755102 44.89795918 45.91836735 46.93877551 47.95918367\n",
            " 48.97959184 50.        ]\n"
          ]
        }
      ]
    },
    {
      "cell_type": "code",
      "source": [
        "# np.eye() : It returns a matrix with ones on the diagonal and zeros elsewhere, it is commonly used in linear algebra\n",
        "a = np.eye(5)\n",
        "a"
      ],
      "metadata": {
        "colab": {
          "base_uri": "https://localhost:8080/"
        },
        "id": "bIqCvR7TqqRx",
        "outputId": "9bbfc9b1-80b1-4b08-f4b7-d29f7731b964"
      },
      "execution_count": null,
      "outputs": [
        {
          "output_type": "execute_result",
          "data": {
            "text/plain": [
              "array([[1., 0., 0., 0., 0.],\n",
              "       [0., 1., 0., 0., 0.],\n",
              "       [0., 0., 1., 0., 0.],\n",
              "       [0., 0., 0., 1., 0.],\n",
              "       [0., 0., 0., 0., 1.]])"
            ]
          },
          "metadata": {},
          "execution_count": 6
        }
      ]
    },
    {
      "cell_type": "markdown",
      "source": [
        "# Find minimum ,maximum ,sum and mean data in array"
      ],
      "metadata": {
        "id": "Gsv7enKgXXUn"
      }
    },
    {
      "cell_type": "code",
      "source": [
        "a = np.arange(5,25)\n",
        "print(a)\n",
        "print(f\"max:{a.max()}\")\n",
        "print(f\"min:{a.min()}\")\n",
        "print(f\"sum:{a.sum()}\")\n",
        "print(f\"mean:{a.mean()}\")"
      ],
      "metadata": {
        "colab": {
          "base_uri": "https://localhost:8080/"
        },
        "id": "7ASBf7mVqqUZ",
        "outputId": "c2f7c50a-d5a4-48c1-99a5-83b441a21f72"
      },
      "execution_count": null,
      "outputs": [
        {
          "output_type": "stream",
          "name": "stdout",
          "text": [
            "[ 5  6  7  8  9 10 11 12 13 14 15 16 17 18 19 20 21 22 23 24]\n",
            "max:24\n",
            "min:5\n",
            "sum:290\n",
            "mean:14.5\n"
          ]
        }
      ]
    },
    {
      "cell_type": "markdown",
      "source": [
        "# Indexing"
      ],
      "metadata": {
        "id": "SPWBrjvepyAS"
      }
    },
    {
      "cell_type": "code",
      "source": [
        "# 1D\n",
        "b = np.array([1,2,3,4])\n",
        "b[0]"
      ],
      "metadata": {
        "colab": {
          "base_uri": "https://localhost:8080/"
        },
        "id": "wSETSTxJ5YUA",
        "outputId": "70081a55-0923-4e18-d874-906a61b977d9"
      },
      "execution_count": null,
      "outputs": [
        {
          "output_type": "execute_result",
          "data": {
            "text/plain": [
              "1"
            ]
          },
          "metadata": {},
          "execution_count": 3
        }
      ]
    },
    {
      "cell_type": "code",
      "source": [
        "b[2]+b[3]"
      ],
      "metadata": {
        "colab": {
          "base_uri": "https://localhost:8080/"
        },
        "id": "tPxz4OdJ5arD",
        "outputId": "74d14fec-48dd-43ea-a5e8-df6e97b3b244"
      },
      "execution_count": null,
      "outputs": [
        {
          "output_type": "execute_result",
          "data": {
            "text/plain": [
              "7"
            ]
          },
          "metadata": {},
          "execution_count": 4
        }
      ]
    },
    {
      "cell_type": "code",
      "source": [
        "# 2D - its like rows and columns\n",
        "c = np.array([[1,2,3,4,5],[6,7,8,9,10]])\n",
        "print(f\"2nd element in the 1st row is: {c[0,1]}\")"
      ],
      "metadata": {
        "colab": {
          "base_uri": "https://localhost:8080/"
        },
        "id": "CvJtxByANV-k",
        "outputId": "b9a863dd-6f0a-44c9-e53e-eae7058d119a"
      },
      "execution_count": null,
      "outputs": [
        {
          "output_type": "stream",
          "name": "stdout",
          "text": [
            "2nd element in the 1st row is: 2\n"
          ]
        }
      ]
    },
    {
      "cell_type": "code",
      "source": [
        "print(f\"last element in the 2nd row is: {c[1,4]}\")"
      ],
      "metadata": {
        "colab": {
          "base_uri": "https://localhost:8080/"
        },
        "id": "WXAP1zeXOFK_",
        "outputId": "2bd42730-00c7-4fb9-d950-455c7ee2a2af"
      },
      "execution_count": null,
      "outputs": [
        {
          "output_type": "stream",
          "name": "stdout",
          "text": [
            "last element in the 2nd row is: 10\n"
          ]
        }
      ]
    },
    {
      "cell_type": "code",
      "source": [
        "# 3D\n",
        "d = np.array([[[1,2,3,4,5],[6,7,8,9,10],[11,12,13,14,15]]])\n",
        "print(f\"2nd element of the 3rd row is {d[0,2,2]}\")"
      ],
      "metadata": {
        "colab": {
          "base_uri": "https://localhost:8080/"
        },
        "id": "icFJVCgEOanu",
        "outputId": "7ff9bc95-2e1b-4656-fa47-cf213213d449"
      },
      "execution_count": null,
      "outputs": [
        {
          "output_type": "stream",
          "name": "stdout",
          "text": [
            "2nd element of the 3rd row is 13\n"
          ]
        }
      ]
    },
    {
      "cell_type": "code",
      "source": [
        "x = np.array([[[1,2,3],[4,5,6]],[[7,8,9],[10,11,12]]])\n",
        "x.shape\n",
        "x[1,1,1]\n"
      ],
      "metadata": {
        "colab": {
          "base_uri": "https://localhost:8080/"
        },
        "id": "FbWNKmDpaOJR",
        "outputId": "1c795818-3714-44e0-ebce-0e264409a6e4"
      },
      "execution_count": null,
      "outputs": [
        {
          "output_type": "execute_result",
          "data": {
            "text/plain": [
              "11"
            ]
          },
          "metadata": {},
          "execution_count": 8
        }
      ]
    },
    {
      "cell_type": "markdown",
      "source": [
        "slicing -\n",
        "taking elements from one given index to another index."
      ],
      "metadata": {
        "id": "TAU3tnbeQ-AJ"
      }
    },
    {
      "cell_type": "code",
      "source": [
        "# [start:end:steps] - steps in optional\n",
        "a = np.array([1,2,3,4,5,6,7,8,9])\n",
        "a[0:5]"
      ],
      "metadata": {
        "colab": {
          "base_uri": "https://localhost:8080/"
        },
        "id": "1UCqLuiDPlob",
        "outputId": "c34a65a1-e8a3-49a1-bd41-2dba25249f01"
      },
      "execution_count": null,
      "outputs": [
        {
          "output_type": "execute_result",
          "data": {
            "text/plain": [
              "array([1, 2, 3, 4, 5])"
            ]
          },
          "metadata": {},
          "execution_count": 9
        }
      ]
    },
    {
      "cell_type": "code",
      "source": [
        "print(f\"start from 4th index and go till the end: {a[4:]}\")"
      ],
      "metadata": {
        "colab": {
          "base_uri": "https://localhost:8080/"
        },
        "id": "SpSXfep4SmKV",
        "outputId": "bc55d93d-06cb-46e2-ff4a-c09d1495cc6a"
      },
      "execution_count": null,
      "outputs": [
        {
          "output_type": "stream",
          "name": "stdout",
          "text": [
            "start from 4th index and go till the end: [5 6 7 8 9]\n"
          ]
        }
      ]
    },
    {
      "cell_type": "code",
      "source": [
        "print(f\"start till the index 4th: {a[:4]}\")"
      ],
      "metadata": {
        "colab": {
          "base_uri": "https://localhost:8080/"
        },
        "id": "N7GU5iMwSytI",
        "outputId": "fcce4249-75da-4ba1-b858-e732d05a4e6b"
      },
      "execution_count": null,
      "outputs": [
        {
          "output_type": "stream",
          "name": "stdout",
          "text": [
            "start till the index 4th: [1 2 3 4]\n"
          ]
        }
      ]
    },
    {
      "cell_type": "code",
      "source": [
        "# negative slicing\n",
        "print(f\"reverse slicing: {a[::-1]}\")"
      ],
      "metadata": {
        "colab": {
          "base_uri": "https://localhost:8080/"
        },
        "id": "bhOyk46QTm5V",
        "outputId": "521967e3-c961-4ba7-9fd3-0cf8a111ab5c"
      },
      "execution_count": null,
      "outputs": [
        {
          "output_type": "stream",
          "name": "stdout",
          "text": [
            "reverse slicing: [9 8 7 6 5 4 3 2 1]\n"
          ]
        }
      ]
    },
    {
      "cell_type": "code",
      "source": [
        "print(f\"start from -6 index till the end: {a[-6:-1]}\")"
      ],
      "metadata": {
        "colab": {
          "base_uri": "https://localhost:8080/"
        },
        "id": "heY5iRAhT9EJ",
        "outputId": "93c030a5-0037-422b-f557-2740c8b64e6f"
      },
      "execution_count": null,
      "outputs": [
        {
          "output_type": "stream",
          "name": "stdout",
          "text": [
            "start from -6 index till the end: [4 5 6 7 8]\n"
          ]
        }
      ]
    },
    {
      "cell_type": "code",
      "source": [
        "print(f\"every alternative number: {a[::2]}\")"
      ],
      "metadata": {
        "colab": {
          "base_uri": "https://localhost:8080/"
        },
        "id": "keihoBvGUeV1",
        "outputId": "43b9a035-203e-4207-8e0e-d51164ba0272"
      },
      "execution_count": null,
      "outputs": [
        {
          "output_type": "stream",
          "name": "stdout",
          "text": [
            "every alternative number: [1 3 5 7 9]\n"
          ]
        }
      ]
    },
    {
      "cell_type": "markdown",
      "source": [
        "slicing in 2D"
      ],
      "metadata": {
        "id": "J_nL9QjjkPbf"
      }
    },
    {
      "cell_type": "code",
      "source": [
        "a = np.array([[1,2,3,4,5],[6,7,8,9,10]])\n",
        "a[1,0]"
      ],
      "metadata": {
        "colab": {
          "base_uri": "https://localhost:8080/"
        },
        "id": "huIsX0I6kUHL",
        "outputId": "4149042c-3c2d-44bf-a7bd-7c88db84ad18"
      },
      "execution_count": null,
      "outputs": [
        {
          "output_type": "execute_result",
          "data": {
            "text/plain": [
              "6"
            ]
          },
          "metadata": {},
          "execution_count": 15
        }
      ]
    },
    {
      "cell_type": "code",
      "source": [
        "a[1,1:4]"
      ],
      "metadata": {
        "colab": {
          "base_uri": "https://localhost:8080/"
        },
        "id": "BE4HsaJrknGM",
        "outputId": "e23e1d4b-05f0-4fec-f832-0bf7cc4661d3"
      },
      "execution_count": null,
      "outputs": [
        {
          "output_type": "execute_result",
          "data": {
            "text/plain": [
              "array([7, 8, 9])"
            ]
          },
          "metadata": {},
          "execution_count": 16
        }
      ]
    },
    {
      "cell_type": "code",
      "source": [
        "print(f\"all elements from 1st row and all elements from the index 2nd in the 1st row: {a[0,0:],a[1,2:]}\")"
      ],
      "metadata": {
        "colab": {
          "base_uri": "https://localhost:8080/"
        },
        "id": "f57skCdulfBa",
        "outputId": "bd4e0e0c-53b5-4def-b23e-e27bce04cab3"
      },
      "execution_count": null,
      "outputs": [
        {
          "output_type": "stream",
          "name": "stdout",
          "text": [
            "all elements from 1st row and all elements from the index 2nd in the 1st row: (array([1, 2, 3, 4, 5]), array([ 8,  9, 10]))\n"
          ]
        }
      ]
    },
    {
      "cell_type": "code",
      "source": [
        "a[0:2,3]"
      ],
      "metadata": {
        "colab": {
          "base_uri": "https://localhost:8080/"
        },
        "id": "Y6J7WsoklvQf",
        "outputId": "95ad1b00-c979-4b41-d588-e019db4a755b"
      },
      "execution_count": null,
      "outputs": [
        {
          "output_type": "execute_result",
          "data": {
            "text/plain": [
              "array([4, 9])"
            ]
          },
          "metadata": {},
          "execution_count": 18
        }
      ]
    },
    {
      "cell_type": "code",
      "source": [
        "a[0:2,1:4]"
      ],
      "metadata": {
        "colab": {
          "base_uri": "https://localhost:8080/"
        },
        "id": "0WOCAXfim3ol",
        "outputId": "7cc93294-2e0a-4b41-e457-94e06b9294fd"
      },
      "execution_count": null,
      "outputs": [
        {
          "output_type": "execute_result",
          "data": {
            "text/plain": [
              "array([[2, 3, 4],\n",
              "       [7, 8, 9]])"
            ]
          },
          "metadata": {},
          "execution_count": 19
        }
      ]
    },
    {
      "cell_type": "markdown",
      "source": [
        "Numpy array datatypes\n",
        "\n",
        "\n",
        "1.   integer - i\n",
        "2.   boolean - b\n",
        "3.   unsigned integer - u\n",
        "4.   float - f\n",
        "5.   complex float - c\n",
        "6.   timedelta - m\n",
        "7.   datetime - M\n",
        "8.   object - O\n",
        "9.   strings - S\n",
        "10.  unicode string - U\n",
        "11.  memory - V\n",
        "\n"
      ],
      "metadata": {
        "id": "QLK-05TfnoKU"
      }
    },
    {
      "cell_type": "code",
      "source": [
        "# checking the data type\n",
        "a = np.array([1,2,3,4])\n",
        "a.dtype"
      ],
      "metadata": {
        "colab": {
          "base_uri": "https://localhost:8080/"
        },
        "id": "iuksn64nnUbn",
        "outputId": "53f2137e-2268-4b12-cd3d-72e484649f84"
      },
      "execution_count": null,
      "outputs": [
        {
          "output_type": "execute_result",
          "data": {
            "text/plain": [
              "dtype('int64')"
            ]
          },
          "metadata": {},
          "execution_count": 20
        }
      ]
    },
    {
      "cell_type": "code",
      "source": [
        "# checking the data type of string\n",
        "b = np.array(['apple','banana','cherry'])\n",
        "b.dtype"
      ],
      "metadata": {
        "colab": {
          "base_uri": "https://localhost:8080/"
        },
        "id": "OwFi6JrApO5b",
        "outputId": "3942cfab-8e16-498e-8bab-c713851c0808"
      },
      "execution_count": null,
      "outputs": [
        {
          "output_type": "execute_result",
          "data": {
            "text/plain": [
              "dtype('<U6')"
            ]
          },
          "metadata": {},
          "execution_count": 21
        }
      ]
    },
    {
      "cell_type": "code",
      "source": [
        "# creating array w/ a defined datatype\n",
        "a = np.array([1,2,3,4],dtype='S')\n",
        "print(a.dtype,a) # b in the output indicate byte string"
      ],
      "metadata": {
        "colab": {
          "base_uri": "https://localhost:8080/"
        },
        "id": "T0Xw65UbpmnE",
        "outputId": "5a0ea034-cadf-42a3-ad34-eb1d1d6d956c"
      },
      "execution_count": null,
      "outputs": [
        {
          "output_type": "stream",
          "name": "stdout",
          "text": [
            "|S1 [b'1' b'2' b'3' b'4']\n"
          ]
        }
      ]
    },
    {
      "cell_type": "code",
      "source": [
        "# create an array w/ datatype of 4byte integer\n",
        "a = np.array([1,2,3,4],dtype='i4')\n",
        "print(a.dtype,a) #8*4=32"
      ],
      "metadata": {
        "colab": {
          "base_uri": "https://localhost:8080/"
        },
        "id": "wC4xOj8cqcJp",
        "outputId": "fb925b2e-402d-48df-ad52-a1833f7693cf"
      },
      "execution_count": null,
      "outputs": [
        {
          "output_type": "stream",
          "name": "stdout",
          "text": [
            "int32 [1 2 3 4]\n"
          ]
        }
      ]
    },
    {
      "cell_type": "code",
      "source": [
        "# we cannot convert string to integer\n",
        "a = np.array(['1','2','3'],dtype='i')\n",
        "print(a.dtype,a)"
      ],
      "metadata": {
        "colab": {
          "base_uri": "https://localhost:8080/"
        },
        "id": "nfoNjVgcrBoM",
        "outputId": "0bb926c9-4bf2-4080-e8fa-44ecca1ec1b8"
      },
      "execution_count": null,
      "outputs": [
        {
          "output_type": "stream",
          "name": "stdout",
          "text": [
            "int32 [1 2 3]\n"
          ]
        }
      ]
    },
    {
      "cell_type": "code",
      "source": [
        "\"\"\"\n",
        "a = np.array(['a','2','3'],dtype='i')\n",
        "print(a.dtype,a)\n",
        "\n",
        "ValueError                                Traceback (most recent call last)\n",
        "<ipython-input-36-c7c8557ed39a> in <cell line: 1>()\n",
        "----> 1 a = np.array(['a','2','3'],dtype='i')\n",
        "      2 print(a.dtype,a)\n",
        "\n",
        "ValueError: invalid literal for int() with base 10: 'a'\n",
        "\"\"\""
      ],
      "metadata": {
        "colab": {
          "base_uri": "https://localhost:8080/",
          "height": 53
        },
        "collapsed": true,
        "id": "5g7cIQsLsFu-",
        "outputId": "e1d19ec7-dddd-4f68-866b-fcbbac8a5df9"
      },
      "execution_count": null,
      "outputs": [
        {
          "output_type": "execute_result",
          "data": {
            "text/plain": [
              "\"\\na = np.array(['a','2','3'],dtype='i')\\nprint(a.dtype,a)\\n\\nValueError                                Traceback (most recent call last)\\n<ipython-input-36-c7c8557ed39a> in <cell line: 1>()\\n----> 1 a = np.array(['a','2','3'],dtype='i')\\n      2 print(a.dtype,a)\\n\\nValueError: invalid literal for int() with base 10: 'a'\\n\""
            ],
            "application/vnd.google.colaboratory.intrinsic+json": {
              "type": "string"
            }
          },
          "metadata": {},
          "execution_count": 25
        }
      ]
    },
    {
      "cell_type": "code",
      "source": [
        "# converting a datatype on existing array -- astype()\n",
        "# we must do this to convert float to integer use astype()\n",
        "a = np.array([1.1,2.1,3.1,4.1])\n",
        "a1 = a.astype('i')\n",
        "print(a1.dtype,a1)"
      ],
      "metadata": {
        "colab": {
          "base_uri": "https://localhost:8080/"
        },
        "id": "VfEvkq_esOBz",
        "outputId": "fed5902b-244e-4961-ec2b-636b60c50778"
      },
      "execution_count": null,
      "outputs": [
        {
          "output_type": "stream",
          "name": "stdout",
          "text": [
            "int32 [1 2 3 4]\n"
          ]
        }
      ]
    },
    {
      "cell_type": "code",
      "source": [
        "a = np.array([1.1,2.1,3.1,4.1,5.1])\n",
        "a2 = a.astype(int) # can write int as well\n",
        "print(a2.dtype,a2)"
      ],
      "metadata": {
        "colab": {
          "base_uri": "https://localhost:8080/"
        },
        "id": "I7pd5YkRtGQa",
        "outputId": "0bd755ac-e2e4-4a12-f274-5cf5a3ebc944"
      },
      "execution_count": null,
      "outputs": [
        {
          "output_type": "stream",
          "name": "stdout",
          "text": [
            "int64 [1 2 3 4 5]\n"
          ]
        }
      ]
    },
    {
      "cell_type": "code",
      "source": [
        "# converting datatype from integer to boolean\n",
        "a = np.array([1,0,3])\n",
        "a3 = a.astype(bool) # can write int as well\n",
        "print(a3.dtype,a3)"
      ],
      "metadata": {
        "colab": {
          "base_uri": "https://localhost:8080/"
        },
        "id": "WyJf5OOgtpyp",
        "outputId": "8cafc3df-6dc0-4147-f104-63bcd6162374"
      },
      "execution_count": null,
      "outputs": [
        {
          "output_type": "stream",
          "name": "stdout",
          "text": [
            "bool [ True False  True]\n"
          ]
        }
      ]
    },
    {
      "cell_type": "markdown",
      "source": [
        "numpy copy and view\n",
        "\n",
        "\n"
      ],
      "metadata": {
        "id": "02AGEthpubWP"
      }
    },
    {
      "cell_type": "code",
      "source": [
        "# copy()\n",
        "a = np.array([1,2,3,4,5])\n",
        "a1 = a.copy()\n",
        "print(\"a1\",a1)"
      ],
      "metadata": {
        "colab": {
          "base_uri": "https://localhost:8080/"
        },
        "id": "-usrfHrquBSi",
        "outputId": "d4e70153-eda1-407b-821c-21ce94c6eada"
      },
      "execution_count": null,
      "outputs": [
        {
          "output_type": "stream",
          "name": "stdout",
          "text": [
            "a1 [1 2 3 4 5]\n"
          ]
        }
      ]
    },
    {
      "cell_type": "code",
      "source": [
        "# view()\n",
        "a = np.array([1,2,3,4,5])\n",
        "a2 = a.view()\n",
        "a2[0] = 42\n",
        "a2"
      ],
      "metadata": {
        "colab": {
          "base_uri": "https://localhost:8080/"
        },
        "id": "HSWOQiKIvSyg",
        "outputId": "af2b084e-975a-48f2-baa6-1ad10a3b9414"
      },
      "execution_count": null,
      "outputs": [
        {
          "output_type": "execute_result",
          "data": {
            "text/plain": [
              "array([42,  2,  3,  4,  5])"
            ]
          },
          "metadata": {},
          "execution_count": 30
        }
      ]
    },
    {
      "cell_type": "markdown",
      "source": [
        "Numpy shapes\n",
        "\n",
        "shape of an array?\n",
        "\n",
        "elements inside the dimensions are called shapes of an array."
      ],
      "metadata": {
        "id": "mGmZsVVLztht"
      }
    },
    {
      "cell_type": "code",
      "source": [
        "a = np.array([[1,2,3,4],[5,6,7,8]])\n",
        "a.shape\n",
        "\n",
        "# 2 dimension and 4 elements in each dimensions"
      ],
      "metadata": {
        "colab": {
          "base_uri": "https://localhost:8080/"
        },
        "id": "r-nhKri2v3eg",
        "outputId": "3d5538c2-c3bd-43a6-b3ae-480a3084ebb6"
      },
      "execution_count": null,
      "outputs": [
        {
          "output_type": "execute_result",
          "data": {
            "text/plain": [
              "(2, 4)"
            ]
          },
          "metadata": {},
          "execution_count": 31
        }
      ]
    },
    {
      "cell_type": "code",
      "source": [
        "b = np.array([[[1,2,3,4],[5,6,7,8],[9,10,11,12]]])\n",
        "b.shape\n",
        "\n",
        "\"\"\"\n",
        "1: There is 1 block of arrays (the outermost dimension).\n",
        "3: There are 3 rows inside the block.\n",
        "4: Each row contains 4 elements.\n",
        "\"\"\""
      ],
      "metadata": {
        "colab": {
          "base_uri": "https://localhost:8080/",
          "height": 36
        },
        "id": "OyjQjyxI0Nip",
        "outputId": "57156661-f095-4fea-9f20-8cb9181f584a"
      },
      "execution_count": null,
      "outputs": [
        {
          "output_type": "execute_result",
          "data": {
            "text/plain": [
              "'\\n1: There is 1 block of arrays (the outermost dimension).\\n3: There are 3 rows inside the block.\\n4: Each row contains 4 elements.\\n'"
            ],
            "application/vnd.google.colaboratory.intrinsic+json": {
              "type": "string"
            }
          },
          "metadata": {},
          "execution_count": 32
        }
      ]
    },
    {
      "cell_type": "code",
      "source": [
        "c = np.array([1,2,3,4,5],ndmin=5)\n",
        "print(c.shape,c)"
      ],
      "metadata": {
        "colab": {
          "base_uri": "https://localhost:8080/"
        },
        "id": "wPTWsfq401f3",
        "outputId": "83f8b57a-a751-491c-c09e-415c44bb1d3a"
      },
      "execution_count": null,
      "outputs": [
        {
          "output_type": "stream",
          "name": "stdout",
          "text": [
            "(1, 1, 1, 1, 5) [[[[[1 2 3 4 5]]]]]\n"
          ]
        }
      ]
    },
    {
      "cell_type": "markdown",
      "source": [
        "reshaping of array - add, remove or modify elements"
      ],
      "metadata": {
        "id": "GLUPiGmh2kKT"
      }
    },
    {
      "cell_type": "code",
      "source": [
        "# from 1D to 2D\n",
        "a = np.array([1,2,3,4,5,6,7,8,9,10,11,12])\n",
        "a1 =a.reshape(4,3)\n",
        "a1"
      ],
      "metadata": {
        "colab": {
          "base_uri": "https://localhost:8080/"
        },
        "id": "i22S3U741ZYJ",
        "outputId": "1a1f4ba9-5c37-4106-a8e3-5fd7353d2829"
      },
      "execution_count": null,
      "outputs": [
        {
          "output_type": "execute_result",
          "data": {
            "text/plain": [
              "array([[ 1,  2,  3],\n",
              "       [ 4,  5,  6],\n",
              "       [ 7,  8,  9],\n",
              "       [10, 11, 12]])"
            ]
          },
          "metadata": {},
          "execution_count": 34
        }
      ]
    },
    {
      "cell_type": "code",
      "source": [
        "# 1D to 3D\n",
        "a = np.array([1,2,3,4,5,6,7,8,9,10,11,12])\n",
        "a2 =a.reshape(2,3,2)\n",
        "a2"
      ],
      "metadata": {
        "colab": {
          "base_uri": "https://localhost:8080/"
        },
        "id": "ZMnVczGN3iIg",
        "outputId": "0404a45e-7380-404f-a3a4-19c956b3c497"
      },
      "execution_count": null,
      "outputs": [
        {
          "output_type": "execute_result",
          "data": {
            "text/plain": [
              "array([[[ 1,  2],\n",
              "        [ 3,  4],\n",
              "        [ 5,  6]],\n",
              "\n",
              "       [[ 7,  8],\n",
              "        [ 9, 10],\n",
              "        [11, 12]]])"
            ]
          },
          "metadata": {},
          "execution_count": 35
        }
      ]
    },
    {
      "cell_type": "code",
      "source": [
        "# unknown dimension reshaping - only one unknown dimesion is allowed\n",
        "a = np.array([1,2,3,4,5,6,7,8])\n",
        "a1 = a.reshape(2,2,-1) # -1 will calculate itself\n",
        "a1\n"
      ],
      "metadata": {
        "id": "yHjvdLcn4rKM",
        "colab": {
          "base_uri": "https://localhost:8080/"
        },
        "outputId": "c61fa1b4-4878-48e1-f7eb-42655e067ecb"
      },
      "execution_count": null,
      "outputs": [
        {
          "output_type": "execute_result",
          "data": {
            "text/plain": [
              "array([[[1, 2],\n",
              "        [3, 4]],\n",
              "\n",
              "       [[5, 6],\n",
              "        [7, 8]]])"
            ]
          },
          "metadata": {},
          "execution_count": 36
        }
      ]
    },
    {
      "cell_type": "code",
      "source": [
        "# flattening the array by converting multidimensional array into 1D\n",
        "a = np.array([[1,2,3],[4,5,6]])\n",
        "a1 = a.reshape(-1) # -1 will change anything to 1D\n",
        "a1"
      ],
      "metadata": {
        "colab": {
          "base_uri": "https://localhost:8080/"
        },
        "id": "1D_Gv3GfqJKe",
        "outputId": "391f5b63-2b5f-4403-9588-40dc89c15112"
      },
      "execution_count": null,
      "outputs": [
        {
          "output_type": "execute_result",
          "data": {
            "text/plain": [
              "array([1, 2, 3, 4, 5, 6])"
            ]
          },
          "metadata": {},
          "execution_count": 37
        }
      ]
    },
    {
      "cell_type": "markdown",
      "source": [
        "there are alot of functions for changing the shapes of an array. like flatten, ravel and rearrange(rot90, fliplr,flipud). these are mainly used in advanced numpy."
      ],
      "metadata": {
        "id": "IqaTfP3or4QO"
      }
    },
    {
      "cell_type": "markdown",
      "source": [
        "Numpy array iterating"
      ],
      "metadata": {
        "id": "GLh4HTuEstE_"
      }
    },
    {
      "cell_type": "code",
      "source": [
        "# loop in 1D\n",
        "a = np.array([1,2,3])\n",
        "for i in a:\n",
        "  print(i, end=\" \")"
      ],
      "metadata": {
        "colab": {
          "base_uri": "https://localhost:8080/"
        },
        "id": "ME45Bf0nscEg",
        "outputId": "80f1571b-fc26-41a0-e8cb-1ce0abfbb02e"
      },
      "execution_count": null,
      "outputs": [
        {
          "output_type": "stream",
          "name": "stdout",
          "text": [
            "1 2 3 "
          ]
        }
      ]
    },
    {
      "cell_type": "code",
      "source": [
        "# loop in 2D\n",
        "a = np.array([[1,2,3],[4,5,6]])\n",
        "for i in a:\n",
        "  print(i)"
      ],
      "metadata": {
        "colab": {
          "base_uri": "https://localhost:8080/"
        },
        "id": "1gSVgnEetSIa",
        "outputId": "5dfc038b-8dd9-4ebc-9994-fdf7818c8d2c"
      },
      "execution_count": null,
      "outputs": [
        {
          "output_type": "stream",
          "name": "stdout",
          "text": [
            "[1 2 3]\n",
            "[4 5 6]\n"
          ]
        }
      ]
    },
    {
      "cell_type": "code",
      "source": [
        "# scalar element- iterate on each element\n",
        "a = np.array([[1,2,3],[4,5,6]])\n",
        "for i in a:\n",
        "  for j in i:\n",
        "    print(j)"
      ],
      "metadata": {
        "colab": {
          "base_uri": "https://localhost:8080/"
        },
        "id": "UBEP6-0yt8hF",
        "outputId": "db0a88c1-01de-4f1a-a980-7918a25ae5b6"
      },
      "execution_count": null,
      "outputs": [
        {
          "output_type": "stream",
          "name": "stdout",
          "text": [
            "1\n",
            "2\n",
            "3\n",
            "4\n",
            "5\n",
            "6\n"
          ]
        }
      ]
    },
    {
      "cell_type": "code",
      "source": [
        "# loop in 3D\n",
        "a = np.array([[[1,2,3],[4,5,6],[7,8,9],[10,11,12]]])\n",
        "for i in a:\n",
        "  for j in i:\n",
        "    for k in j:\n",
        "      print(k,end=\" \")"
      ],
      "metadata": {
        "colab": {
          "base_uri": "https://localhost:8080/"
        },
        "id": "rP3eysp4umBD",
        "outputId": "4c518170-b1d5-4550-fb18-532922f6e777"
      },
      "execution_count": null,
      "outputs": [
        {
          "output_type": "stream",
          "name": "stdout",
          "text": [
            "1 2 3 4 5 6 7 8 9 10 11 12 "
          ]
        }
      ]
    },
    {
      "cell_type": "code",
      "source": [
        "# iterating using 'nditer()' function\n",
        "# a helping function\n",
        "\n",
        "# iterate on each scalar element\n",
        "a = np.array([[[1,2],[3,4],[5,6],[7,8]]])\n",
        "for i in np.nditer(a):\n",
        "  print(i,end=\" \")"
      ],
      "metadata": {
        "colab": {
          "base_uri": "https://localhost:8080/"
        },
        "id": "5F1RHkonvSz8",
        "outputId": "bd3c2ad0-5a92-445d-e75b-be44b4a539c2"
      },
      "execution_count": null,
      "outputs": [
        {
          "output_type": "stream",
          "name": "stdout",
          "text": [
            "1 2 3 4 5 6 7 8 "
          ]
        }
      ]
    },
    {
      "cell_type": "code",
      "source": [
        "# iterate w/ different step sizes\n",
        "a = np.array([[1,2,3,10],[4,5,6,20]])\n",
        "for i in np.nditer(a[:,::2]):\n",
        "  print(i,end=\" \")"
      ],
      "metadata": {
        "colab": {
          "base_uri": "https://localhost:8080/"
        },
        "id": "opgRoXLzxJ5i",
        "outputId": "a56f241b-3bfa-4906-c9c7-ae5a12e2ba2e"
      },
      "execution_count": null,
      "outputs": [
        {
          "output_type": "stream",
          "name": "stdout",
          "text": [
            "1 3 4 6 "
          ]
        }
      ]
    },
    {
      "cell_type": "markdown",
      "source": [
        "#**Joining two or more arrays together**"
      ],
      "metadata": {
        "id": "oBvKV1-a3DzS"
      }
    },
    {
      "cell_type": "code",
      "source": [
        "a = np.array([1,2,3])\n",
        "a1 = np.array([4,5,6])\n",
        "a2 = np.concatenate((a,a1))\n",
        "a2"
      ],
      "metadata": {
        "colab": {
          "base_uri": "https://localhost:8080/"
        },
        "id": "tapRRktoyV9t",
        "outputId": "38d9ec53-c48a-4558-a6c2-95797475ef58"
      },
      "execution_count": null,
      "outputs": [
        {
          "output_type": "execute_result",
          "data": {
            "text/plain": [
              "array([1, 2, 3, 4, 5, 6])"
            ]
          },
          "metadata": {},
          "execution_count": 44
        }
      ]
    },
    {
      "cell_type": "markdown",
      "source": [
        "\n",
        "Imp. things to remember\n",
        "\n",
        "---\n",
        "\n",
        "\n",
        "*   axis = 0 [column]\n",
        "*   axis = 1 [row]\n",
        "\n"
      ],
      "metadata": {
        "id": "7llLTIH-hqPm"
      }
    },
    {
      "cell_type": "code",
      "source": [
        "# joining of 2D along w/ rows(axis=1)\n",
        "a = np.array([[1,2],[3,4]])\n",
        "a1 = np.array([[5,6],[7,8]])\n",
        "a2 = np.concatenate((a,a1), axis = 1)\n",
        "a2"
      ],
      "metadata": {
        "colab": {
          "base_uri": "https://localhost:8080/"
        },
        "id": "pcl4tzvi4BUt",
        "outputId": "9fc17bb2-6ff1-49db-e68b-57387f624aad"
      },
      "execution_count": null,
      "outputs": [
        {
          "output_type": "execute_result",
          "data": {
            "text/plain": [
              "array([[1, 2, 5, 6],\n",
              "       [3, 4, 7, 8]])"
            ]
          },
          "metadata": {},
          "execution_count": 45
        }
      ]
    },
    {
      "cell_type": "code",
      "source": [
        "a = np.array([[1,2],[3,4]])\n",
        "a1 = np.array([[5,6],[7,8]])\n",
        "a2 = np.concatenate((a,a1), axis = 0)\n",
        "a2"
      ],
      "metadata": {
        "colab": {
          "base_uri": "https://localhost:8080/"
        },
        "id": "OSJCn_t25Eun",
        "outputId": "f6515715-73ee-4b30-b693-9ec0e1160b42"
      },
      "execution_count": null,
      "outputs": [
        {
          "output_type": "execute_result",
          "data": {
            "text/plain": [
              "array([[1, 2],\n",
              "       [3, 4],\n",
              "       [5, 6],\n",
              "       [7, 8]])"
            ]
          },
          "metadata": {},
          "execution_count": 46
        }
      ]
    },
    {
      "cell_type": "code",
      "source": [
        "# joining array using stack() function\n",
        "a = np.array([1,2,3])\n",
        "a1 = np.array([4,5,6])\n",
        "a2 = np.stack((a,a1),axis=1)\n",
        "a2"
      ],
      "metadata": {
        "colab": {
          "base_uri": "https://localhost:8080/"
        },
        "id": "TV7gt0Zp5cI0",
        "outputId": "74918d94-daf2-4685-b3a5-14aa60e59e8c"
      },
      "execution_count": null,
      "outputs": [
        {
          "output_type": "execute_result",
          "data": {
            "text/plain": [
              "array([[1, 4],\n",
              "       [2, 5],\n",
              "       [3, 6]])"
            ]
          },
          "metadata": {},
          "execution_count": 47
        }
      ]
    },
    {
      "cell_type": "code",
      "source": [
        "# stacking along with rows: hstack() for horizontal joining\n",
        "a = np.array([1,2,3])\n",
        "a1 = np.array([4,5,6])\n",
        "a2 = np.hstack((a,a1))\n",
        "a2"
      ],
      "metadata": {
        "colab": {
          "base_uri": "https://localhost:8080/"
        },
        "id": "WBSs5KCt6Ddn",
        "outputId": "7a17785c-368c-4d08-9570-88835b81699e"
      },
      "execution_count": null,
      "outputs": [
        {
          "output_type": "execute_result",
          "data": {
            "text/plain": [
              "array([1, 2, 3, 4, 5, 6])"
            ]
          },
          "metadata": {},
          "execution_count": 48
        }
      ]
    },
    {
      "cell_type": "code",
      "source": [
        "# stacking with column\n",
        "a = np.array([1,2,3])\n",
        "a1 = np.array([4,5,6])\n",
        "a2 = np.vstack((a,a1))\n",
        "a2"
      ],
      "metadata": {
        "colab": {
          "base_uri": "https://localhost:8080/"
        },
        "id": "W-8mTe0p6iPG",
        "outputId": "d6aab7d2-5c4e-4557-b932-1b3bea288e6a"
      },
      "execution_count": null,
      "outputs": [
        {
          "output_type": "execute_result",
          "data": {
            "text/plain": [
              "array([[1, 2, 3],\n",
              "       [4, 5, 6]])"
            ]
          },
          "metadata": {},
          "execution_count": 49
        }
      ]
    },
    {
      "cell_type": "code",
      "source": [
        "# stacking along with height(dept)\n",
        "a = np.array([1,2,3])\n",
        "a1 = np.array([4,5,6])\n",
        "a2 = np.dstack((a,a1))\n",
        "a2"
      ],
      "metadata": {
        "colab": {
          "base_uri": "https://localhost:8080/"
        },
        "id": "CL8D2Xof615t",
        "outputId": "18568262-6d37-409a-89b5-b09fc9813252"
      },
      "execution_count": null,
      "outputs": [
        {
          "output_type": "execute_result",
          "data": {
            "text/plain": [
              "array([[[1, 4],\n",
              "        [2, 5],\n",
              "        [3, 6]]])"
            ]
          },
          "metadata": {},
          "execution_count": 50
        }
      ]
    },
    {
      "cell_type": "markdown",
      "source": [
        "#Split array"
      ],
      "metadata": {
        "id": "J4Z1OTfKv3Ki"
      }
    },
    {
      "cell_type": "code",
      "source": [
        "# we use array_split() function\n",
        "\n",
        "# splitting in three parts\n",
        "z = np.array([1,2,3,4,5,6])\n",
        "z1 = np.array_split(z,3)\n",
        "z1"
      ],
      "metadata": {
        "id": "zubU7fSC7FFL",
        "colab": {
          "base_uri": "https://localhost:8080/"
        },
        "outputId": "29149723-afb2-4945-f079-9990dfd3e665"
      },
      "execution_count": null,
      "outputs": [
        {
          "output_type": "execute_result",
          "data": {
            "text/plain": [
              "[array([1, 2]), array([3, 4]), array([5, 6])]"
            ]
          },
          "metadata": {},
          "execution_count": 51
        }
      ]
    },
    {
      "cell_type": "code",
      "source": [
        "x = np.array([1,2,3,4,5,6,7,8])\n",
        "x1 = np.array_split(x,4)\n",
        "x1"
      ],
      "metadata": {
        "colab": {
          "base_uri": "https://localhost:8080/"
        },
        "id": "vobf_E-q4KSY",
        "outputId": "175699bb-1e92-495c-9326-09c9a015d2ef"
      },
      "execution_count": null,
      "outputs": [
        {
          "output_type": "execute_result",
          "data": {
            "text/plain": [
              "[array([1, 2]), array([3, 4]), array([5, 6]), array([7, 8])]"
            ]
          },
          "metadata": {},
          "execution_count": 52
        }
      ]
    },
    {
      "cell_type": "code",
      "source": [
        "i = np.array([1,2,3,4,5,6])\n",
        "i1 = np.array_split(i,4)\n",
        "i1"
      ],
      "metadata": {
        "colab": {
          "base_uri": "https://localhost:8080/"
        },
        "id": "YNTNAjF84gIi",
        "outputId": "3cfaf49f-00ea-4048-a684-b41dc2d46d6f"
      },
      "execution_count": null,
      "outputs": [
        {
          "output_type": "execute_result",
          "data": {
            "text/plain": [
              "[array([1, 2]), array([3, 4]), array([5]), array([6])]"
            ]
          },
          "metadata": {},
          "execution_count": 53
        }
      ]
    },
    {
      "cell_type": "code",
      "source": [
        "z = np.array([1,2,3,4,5,6])\n",
        "z1 = np.array_split(z,3)\n",
        "z1[0] # in case we want to print only specific index elements"
      ],
      "metadata": {
        "colab": {
          "base_uri": "https://localhost:8080/"
        },
        "id": "AyOBMtpv4tKm",
        "outputId": "eb84f523-a2af-403c-99e7-dfe05a8cf859"
      },
      "execution_count": null,
      "outputs": [
        {
          "output_type": "execute_result",
          "data": {
            "text/plain": [
              "array([1, 2])"
            ]
          },
          "metadata": {},
          "execution_count": 54
        }
      ]
    },
    {
      "cell_type": "code",
      "source": [
        "# 2D splitting\n",
        "# splitting one 2D into three different 2Ds\n",
        "z = np.array([[1,2],[3,4],[5,6],[7,8],[9,10],[11,12]])\n",
        "z1 = np.array_split(z,3)\n",
        "z1"
      ],
      "metadata": {
        "colab": {
          "base_uri": "https://localhost:8080/"
        },
        "id": "H4_POG4t5Rj4",
        "outputId": "1d15b920-38f4-4248-81d4-f6ab55cb199e"
      },
      "execution_count": null,
      "outputs": [
        {
          "output_type": "execute_result",
          "data": {
            "text/plain": [
              "[array([[1, 2],\n",
              "        [3, 4]]),\n",
              " array([[5, 6],\n",
              "        [7, 8]]),\n",
              " array([[ 9, 10],\n",
              "        [11, 12]])]"
            ]
          },
          "metadata": {},
          "execution_count": 55
        }
      ]
    },
    {
      "cell_type": "code",
      "source": [
        "z = np.array([[1,2,3],[4,5,6],[7,8,9],[10,11,12],[13,14,15],[16,17,18]])\n",
        "z1 = np.array_split(z,3)\n",
        "z1"
      ],
      "metadata": {
        "colab": {
          "base_uri": "https://localhost:8080/"
        },
        "id": "yoRuOSh-6E2h",
        "outputId": "41c7b77e-f037-4646-b594-61499069e524"
      },
      "execution_count": null,
      "outputs": [
        {
          "output_type": "execute_result",
          "data": {
            "text/plain": [
              "[array([[1, 2, 3],\n",
              "        [4, 5, 6]]),\n",
              " array([[ 7,  8,  9],\n",
              "        [10, 11, 12]]),\n",
              " array([[13, 14, 15],\n",
              "        [16, 17, 18]])]"
            ]
          },
          "metadata": {},
          "execution_count": 56
        }
      ]
    },
    {
      "cell_type": "code",
      "source": [
        "# splitting 2D into three 2D, along w/ rows\n",
        "z = np.array([[1,2,3],[4,5,6],[7,8,9],[10,11,12],[13,14,15],[16,17,18]])\n",
        "z1 = np.array_split(z,3,axis=1)\n",
        "print(z1,end=\" \")"
      ],
      "metadata": {
        "colab": {
          "base_uri": "https://localhost:8080/"
        },
        "id": "YJ7rtUqA7Hm-",
        "outputId": "5bb18076-8a60-4b0d-e243-440d8cda6e22"
      },
      "execution_count": null,
      "outputs": [
        {
          "output_type": "stream",
          "name": "stdout",
          "text": [
            "[array([[ 1],\n",
            "       [ 4],\n",
            "       [ 7],\n",
            "       [10],\n",
            "       [13],\n",
            "       [16]]), array([[ 2],\n",
            "       [ 5],\n",
            "       [ 8],\n",
            "       [11],\n",
            "       [14],\n",
            "       [17]]), array([[ 3],\n",
            "       [ 6],\n",
            "       [ 9],\n",
            "       [12],\n",
            "       [15],\n",
            "       [18]])] "
          ]
        }
      ]
    },
    {
      "cell_type": "code",
      "source": [
        "# alternate solution using hsplit(), which is the spp. of hstack()\n",
        "z = np.array([[1,2,3],[4,5,6],[7,8,9],[10,11,12],[13,14,15],[16,17,18]])\n",
        "z1 = np.hsplit(z,3)\n",
        "print(z1,end=\" \")\n"
      ],
      "metadata": {
        "colab": {
          "base_uri": "https://localhost:8080/"
        },
        "id": "9Lm-jhKj8JVe",
        "outputId": "d3963aa3-0e58-416f-9d6f-c3547803e6c0"
      },
      "execution_count": null,
      "outputs": [
        {
          "output_type": "stream",
          "name": "stdout",
          "text": [
            "[array([[ 1],\n",
            "       [ 4],\n",
            "       [ 7],\n",
            "       [10],\n",
            "       [13],\n",
            "       [16]]), array([[ 2],\n",
            "       [ 5],\n",
            "       [ 8],\n",
            "       [11],\n",
            "       [14],\n",
            "       [17]]), array([[ 3],\n",
            "       [ 6],\n",
            "       [ 9],\n",
            "       [12],\n",
            "       [15],\n",
            "       [18]])] "
          ]
        }
      ]
    },
    {
      "cell_type": "markdown",
      "source": [
        "# searching array - using where()\n",
        "\n"
      ],
      "metadata": {
        "id": "ymTA8ndQ7GSa"
      }
    },
    {
      "cell_type": "code",
      "source": [
        "a = np.array([1,2,3,4,5,4,4])\n",
        "a1 = np.where(a == 4)\n",
        "a1"
      ],
      "metadata": {
        "id": "xFMBck7i9Bf8",
        "colab": {
          "base_uri": "https://localhost:8080/"
        },
        "outputId": "55070a8f-68b6-4057-a9f9-25fb709e47d6"
      },
      "execution_count": null,
      "outputs": [
        {
          "output_type": "execute_result",
          "data": {
            "text/plain": [
              "(array([3, 5, 6]),)"
            ]
          },
          "metadata": {},
          "execution_count": 59
        }
      ]
    },
    {
      "cell_type": "code",
      "source": [
        "# find the indexes where the values are even numbers\n",
        "a = np.array([1,2,3,4,5,6,7,8])\n",
        "a1 = np.where(a % 2 == 0)\n",
        "a1"
      ],
      "metadata": {
        "colab": {
          "base_uri": "https://localhost:8080/"
        },
        "id": "gNf0q0J178ne",
        "outputId": "fd3bf544-4bb4-4294-c56b-279be3cba3df"
      },
      "execution_count": null,
      "outputs": [
        {
          "output_type": "execute_result",
          "data": {
            "text/plain": [
              "(array([1, 3, 5, 7]),)"
            ]
          },
          "metadata": {},
          "execution_count": 60
        }
      ]
    },
    {
      "cell_type": "code",
      "source": [
        "# find the indexes where the values are odd numbers\n",
        "a = np.array([1,2,3,4,5,6,7,8])\n",
        "a1 = np.where(a % 2 != 0)\n",
        "a1"
      ],
      "metadata": {
        "colab": {
          "base_uri": "https://localhost:8080/"
        },
        "id": "A7Y_Oqcd8rNQ",
        "outputId": "4ecf2c27-894a-4cb9-b9f4-ce06d3f09f3f"
      },
      "execution_count": null,
      "outputs": [
        {
          "output_type": "execute_result",
          "data": {
            "text/plain": [
              "(array([0, 2, 4, 6]),)"
            ]
          },
          "metadata": {},
          "execution_count": 61
        }
      ]
    },
    {
      "cell_type": "markdown",
      "source": [
        "# searchsorted()\n",
        "\n",
        "perform binary search in array"
      ],
      "metadata": {
        "id": "Z0rtaNNB9Uk-"
      }
    },
    {
      "cell_type": "code",
      "source": [
        "# find the index where the value 7 should be inserted\n",
        "\n",
        "a = np.array([6,7,8,9])\n",
        "a1 = np.searchsorted(a,7)\n",
        "a1"
      ],
      "metadata": {
        "colab": {
          "base_uri": "https://localhost:8080/"
        },
        "id": "EnwhzBUU9Lb_",
        "outputId": "06d074dc-2710-47e2-fcdf-a6c1b01086d0"
      },
      "execution_count": null,
      "outputs": [
        {
          "output_type": "execute_result",
          "data": {
            "text/plain": [
              "1"
            ]
          },
          "metadata": {},
          "execution_count": 62
        }
      ]
    },
    {
      "cell_type": "code",
      "source": [
        "# search from the right side\n",
        "\n",
        "b = np.array([6,7,8,9])\n",
        "b1 = np.searchsorted(b,7, side='right')\n",
        "b1"
      ],
      "metadata": {
        "colab": {
          "base_uri": "https://localhost:8080/"
        },
        "id": "iw750pLH97VT",
        "outputId": "7dd7591b-ad0a-4b8f-def9-b04d4760b0ce"
      },
      "execution_count": null,
      "outputs": [
        {
          "output_type": "execute_result",
          "data": {
            "text/plain": [
              "2"
            ]
          },
          "metadata": {},
          "execution_count": 63
        }
      ]
    },
    {
      "cell_type": "code",
      "source": [
        "# lets search multiple values\n",
        "\"\"\"\n",
        "c = np.array([1,3,5,7])\n",
        "c1 = np.searchsorted(c, [2,4,6])\n",
        "c1\n",
        "\"\"\""
      ],
      "metadata": {
        "colab": {
          "base_uri": "https://localhost:8080/",
          "height": 36
        },
        "id": "p65DEyOp-b5U",
        "outputId": "495c9856-cf84-4abc-ec14-8cb8cb388198"
      },
      "execution_count": null,
      "outputs": [
        {
          "output_type": "execute_result",
          "data": {
            "text/plain": [
              "'\\nc = np.array([1,3,5,7])\\nc1 = np.searchsorted(c, [2,4,6])\\nc1\\n'"
            ],
            "application/vnd.google.colaboratory.intrinsic+json": {
              "type": "string"
            }
          },
          "metadata": {},
          "execution_count": 64
        }
      ]
    },
    {
      "cell_type": "markdown",
      "source": [
        "# sorting"
      ],
      "metadata": {
        "id": "09nzWEWt_-Q6"
      }
    },
    {
      "cell_type": "code",
      "source": [
        "# sort()\n",
        "\n",
        "a = np.array([3,2,0,1])\n",
        "np.sort(a)"
      ],
      "metadata": {
        "colab": {
          "base_uri": "https://localhost:8080/"
        },
        "id": "fodm34Yi_FXS",
        "outputId": "e4b88fc6-c0f4-4d2e-f1c6-b28b15a83cd1"
      },
      "execution_count": null,
      "outputs": [
        {
          "output_type": "execute_result",
          "data": {
            "text/plain": [
              "array([0, 1, 2, 3])"
            ]
          },
          "metadata": {},
          "execution_count": 65
        }
      ]
    },
    {
      "cell_type": "code",
      "source": [
        "# string sorting\n",
        "\n",
        "a = np.array(['banana','cherry','apple'])\n",
        "np.sort(a)"
      ],
      "metadata": {
        "colab": {
          "base_uri": "https://localhost:8080/"
        },
        "id": "Qvxe5aW1AnNu",
        "outputId": "c6336c86-a9c4-430b-824a-1cea293f217f"
      },
      "execution_count": null,
      "outputs": [
        {
          "output_type": "execute_result",
          "data": {
            "text/plain": [
              "array(['apple', 'banana', 'cherry'], dtype='<U6')"
            ]
          },
          "metadata": {},
          "execution_count": 66
        }
      ]
    },
    {
      "cell_type": "code",
      "source": [
        "# boolean sorting\n",
        "a = np.array([True, False, True])\n",
        "np.sort(a)"
      ],
      "metadata": {
        "colab": {
          "base_uri": "https://localhost:8080/"
        },
        "id": "881qlmWkBDv4",
        "outputId": "133224a4-34d1-4a8d-b272-0a40ed0f5116"
      },
      "execution_count": null,
      "outputs": [
        {
          "output_type": "execute_result",
          "data": {
            "text/plain": [
              "array([False,  True,  True])"
            ]
          },
          "metadata": {},
          "execution_count": 67
        }
      ]
    },
    {
      "cell_type": "code",
      "source": [
        "# 2D sorting, same goes for 3D array\n",
        "\n",
        "a = np.array([[3,2,4],[5,0,1]])\n",
        "np.sort(a)"
      ],
      "metadata": {
        "colab": {
          "base_uri": "https://localhost:8080/"
        },
        "id": "7_LG1vo4BQw8",
        "outputId": "809e7ca8-621a-469b-e577-5ea0815d4be0"
      },
      "execution_count": null,
      "outputs": [
        {
          "output_type": "execute_result",
          "data": {
            "text/plain": [
              "array([[2, 3, 4],\n",
              "       [0, 1, 5]])"
            ]
          },
          "metadata": {},
          "execution_count": 68
        }
      ]
    },
    {
      "cell_type": "markdown",
      "source": [
        "# filtering"
      ],
      "metadata": {
        "id": "HrQrarimFgba"
      }
    },
    {
      "cell_type": "code",
      "source": [
        "a = np.array([41,42,43,44])\n",
        "a1 = [True,False,True,False]\n",
        "final_a = a[a1]\n",
        "final_a"
      ],
      "metadata": {
        "colab": {
          "base_uri": "https://localhost:8080/"
        },
        "id": "IiwLpeetBiL0",
        "outputId": "cdc3a252-6a08-4ee5-95fb-768b569f215c"
      },
      "execution_count": null,
      "outputs": [
        {
          "output_type": "execute_result",
          "data": {
            "text/plain": [
              "array([41, 43])"
            ]
          },
          "metadata": {},
          "execution_count": 69
        }
      ]
    },
    {
      "cell_type": "code",
      "source": [
        "# we'll create a filter array, it will return values >42\n",
        "a = np.array([41,42,43,44])\n",
        "empty_a = []\n",
        "for i in a:\n",
        "  if i > 42:\n",
        "    empty_a.append(True)\n",
        "  else:\n",
        "    empty_a.append(False)\n",
        "a_new = a[empty_a]\n",
        "print(f\"empty_a: {empty_a}\")\n",
        "print(f\"a_new: {a_new}\")"
      ],
      "metadata": {
        "colab": {
          "base_uri": "https://localhost:8080/"
        },
        "id": "CgwtpQ9CGzJS",
        "outputId": "43d60066-063a-4dc3-bd8e-9f6fb9368f4e"
      },
      "execution_count": null,
      "outputs": [
        {
          "output_type": "stream",
          "name": "stdout",
          "text": [
            "empty_a: [False, False, True, True]\n",
            "a_new: [43 44]\n"
          ]
        }
      ]
    },
    {
      "cell_type": "code",
      "source": [
        "# alternative method\n",
        "\n",
        "a = np.array([41,42,43,44])\n",
        "empty_a = a > 42\n",
        "a_new = a[empty_a]\n",
        "print(f\"empty_a: {empty_a}\")\n",
        "print(f\"a_new: {a_new}\")"
      ],
      "metadata": {
        "colab": {
          "base_uri": "https://localhost:8080/"
        },
        "id": "akpCfVAmI0D5",
        "outputId": "0ad28dcc-4978-4b8e-f1f3-ca99949da07a"
      },
      "execution_count": null,
      "outputs": [
        {
          "output_type": "stream",
          "name": "stdout",
          "text": [
            "empty_a: [False False  True  True]\n",
            "a_new: [43 44]\n"
          ]
        }
      ]
    },
    {
      "cell_type": "code",
      "source": [
        "a = np.array([1,2,3,4,5,6,7,8,9,10])\n",
        "empty_a = a%2==0\n",
        "a_new = a[empty_a]\n",
        "print(f\"empty_a: {empty_a}\")\n",
        "print(f\"a_new: {a_new}\")"
      ],
      "metadata": {
        "colab": {
          "base_uri": "https://localhost:8080/"
        },
        "id": "afOYHpe8K1HI",
        "outputId": "12260da9-8d84-4c60-a8f2-03cf07a49e51"
      },
      "execution_count": null,
      "outputs": [
        {
          "output_type": "stream",
          "name": "stdout",
          "text": [
            "empty_a: [False  True False  True False  True False  True False  True]\n",
            "a_new: [ 2  4  6  8 10]\n"
          ]
        }
      ]
    },
    {
      "cell_type": "markdown",
      "source": [
        "# random number"
      ],
      "metadata": {
        "id": "DwO9G-PE6mwI"
      }
    },
    {
      "cell_type": "code",
      "source": [
        "from numpy import random"
      ],
      "metadata": {
        "id": "nM-clJqTIlcH"
      },
      "execution_count": null,
      "outputs": []
    },
    {
      "cell_type": "code",
      "source": [
        "# 0 to 100 random number generation\n",
        "a = random.randint(100)\n",
        "a"
      ],
      "metadata": {
        "colab": {
          "base_uri": "https://localhost:8080/"
        },
        "id": "c94kHHM_Ilu6",
        "outputId": "a28b548d-50a3-4a2d-e3d9-536330d3a21c"
      },
      "execution_count": null,
      "outputs": [
        {
          "output_type": "execute_result",
          "data": {
            "text/plain": [
              "80"
            ]
          },
          "metadata": {},
          "execution_count": 74
        }
      ]
    },
    {
      "cell_type": "code",
      "source": [
        "# float number generation\n",
        "a = random.rand(10)\n",
        "a\n",
        "\n",
        "# if we do no provide any value it will by default give value from 0 to 1"
      ],
      "metadata": {
        "colab": {
          "base_uri": "https://localhost:8080/"
        },
        "id": "5H_aIQEiIlyE",
        "outputId": "faad2070-5c5e-416f-bbc1-e6b385605d1d"
      },
      "execution_count": null,
      "outputs": [
        {
          "output_type": "execute_result",
          "data": {
            "text/plain": [
              "array([0.85022753, 0.65975442, 0.31981779, 0.44071461, 0.42254305,\n",
              "       0.96952103, 0.65996655, 0.25390636, 0.82947038, 0.95129587])"
            ]
          },
          "metadata": {},
          "execution_count": 75
        }
      ]
    },
    {
      "cell_type": "code",
      "source": [
        "# generate random array\n",
        "# 1D containing 5 random int from 0-100\n",
        "\n",
        "a = random.randint(100, size = (5))\n",
        "a"
      ],
      "metadata": {
        "colab": {
          "base_uri": "https://localhost:8080/"
        },
        "id": "O4aEVy56Il0l",
        "outputId": "6ffb54c4-ea05-47c2-e5d6-685133d72673"
      },
      "execution_count": null,
      "outputs": [
        {
          "output_type": "execute_result",
          "data": {
            "text/plain": [
              "array([ 1,  9, 55, 43, 14])"
            ]
          },
          "metadata": {},
          "execution_count": 76
        }
      ]
    },
    {
      "cell_type": "code",
      "source": [
        "# 2D containing 3 rows with 5 random int elements from 0-100\n",
        "\n",
        "a = random.randint(100, size=(3,5))\n",
        "a"
      ],
      "metadata": {
        "colab": {
          "base_uri": "https://localhost:8080/"
        },
        "id": "7VYcBYVgIl3K",
        "outputId": "3bc435ed-5aa8-4887-ff7d-8c7eeb61f7f3"
      },
      "execution_count": null,
      "outputs": [
        {
          "output_type": "execute_result",
          "data": {
            "text/plain": [
              "array([[97, 61,  7, 29, 12],\n",
              "       [25, 14, 20, 32, 81],\n",
              "       [90, 27, 70, 47, 27]])"
            ]
          },
          "metadata": {},
          "execution_count": 77
        }
      ]
    },
    {
      "cell_type": "code",
      "source": [
        "# 1D containing 5 random float\n",
        "\n",
        "a = random.rand(5)\n",
        "a"
      ],
      "metadata": {
        "colab": {
          "base_uri": "https://localhost:8080/"
        },
        "id": "BQ_Aou-wIl5x",
        "outputId": "cd364566-7077-4a7b-f7bf-f57b39c68216"
      },
      "execution_count": null,
      "outputs": [
        {
          "output_type": "execute_result",
          "data": {
            "text/plain": [
              "array([0.89527642, 0.19733346, 0.24990751, 0.77978582, 0.74203202])"
            ]
          },
          "metadata": {},
          "execution_count": 78
        }
      ]
    },
    {
      "cell_type": "code",
      "source": [
        "# 2D containing 3 rows and 5 random float\n",
        "\n",
        "a = random.rand(3,5)\n",
        "a"
      ],
      "metadata": {
        "colab": {
          "base_uri": "https://localhost:8080/"
        },
        "id": "EGOCYInLIl8n",
        "outputId": "f498379d-5504-4b0e-a618-813026fe2fe4"
      },
      "execution_count": null,
      "outputs": [
        {
          "output_type": "execute_result",
          "data": {
            "text/plain": [
              "array([[0.513209  , 0.26429972, 0.9249711 , 0.11436757, 0.39715769],\n",
              "       [0.46329241, 0.72893239, 0.4694692 , 0.13726511, 0.52597519],\n",
              "       [0.39354843, 0.71061038, 0.38478408, 0.47491057, 0.76035268]])"
            ]
          },
          "metadata": {},
          "execution_count": 79
        }
      ]
    },
    {
      "cell_type": "code",
      "source": [
        "# picking random numbers from an 1D array using choice()\n",
        "\n",
        "a = random.choice([3,5,7,9,6,4])\n",
        "a"
      ],
      "metadata": {
        "colab": {
          "base_uri": "https://localhost:8080/"
        },
        "id": "-7RJPUUnIl_f",
        "outputId": "6001aa6c-ac38-478e-b334-3158c470c247"
      },
      "execution_count": null,
      "outputs": [
        {
          "output_type": "execute_result",
          "data": {
            "text/plain": [
              "7"
            ]
          },
          "metadata": {},
          "execution_count": 80
        }
      ]
    },
    {
      "cell_type": "code",
      "source": [
        "# picking from 1D array and changing into 2D array with 3 rows and 5 elements\n",
        "\n",
        "a = random.choice([3,5,7,9,6,4],size=(3,5))\n",
        "a"
      ],
      "metadata": {
        "colab": {
          "base_uri": "https://localhost:8080/"
        },
        "id": "U7MTovcwImBx",
        "outputId": "475a8ef6-03f5-4fa8-e05f-c43cd83717c5"
      },
      "execution_count": null,
      "outputs": [
        {
          "output_type": "execute_result",
          "data": {
            "text/plain": [
              "array([[6, 5, 5, 9, 7],\n",
              "       [7, 3, 4, 4, 6],\n",
              "       [9, 4, 6, 4, 5]])"
            ]
          },
          "metadata": {},
          "execution_count": 81
        }
      ]
    },
    {
      "cell_type": "markdown",
      "source": [
        "# Arithmetic operations"
      ],
      "metadata": {
        "id": "T7cUWQcW4nrW"
      }
    },
    {
      "cell_type": "code",
      "source": [
        "a = np.arange(1,6)\n",
        "a\n",
        "print(a+2)\n",
        "print(a*2)\n",
        "print(a/2)\n",
        "print(a//2)\n",
        "print(a%2)\n"
      ],
      "metadata": {
        "id": "6-2-A6ZZLl10",
        "colab": {
          "base_uri": "https://localhost:8080/"
        },
        "outputId": "de89f049-739f-4626-d55c-bded7729c3d7"
      },
      "execution_count": null,
      "outputs": [
        {
          "output_type": "stream",
          "name": "stdout",
          "text": [
            "[3 4 5 6 7]\n",
            "[ 2  4  6  8 10]\n",
            "[0.5 1.  1.5 2.  2.5]\n",
            "[0 1 1 2 2]\n",
            "[1 0 1 0 1]\n"
          ]
        }
      ]
    },
    {
      "cell_type": "markdown",
      "source": [
        "# Broadcasting\n",
        "\n",
        "Broadcasting in NumPy refers to the ability of NumPy to perform arithmetic operations on arrays of different shapes in a way that automatically expands their dimensions to make them compatible. This eliminates the need to manually resize arrays, allowing for efficient vectorized operations."
      ],
      "metadata": {
        "id": "UfZtaZilYclh"
      }
    },
    {
      "cell_type": "code",
      "source": [
        "a = np.arange(1,25)\n",
        "a"
      ],
      "metadata": {
        "colab": {
          "base_uri": "https://localhost:8080/"
        },
        "id": "MPEymEUKYeRI",
        "outputId": "84614fd9-f6e9-4100-b294-fcdcb99cf799"
      },
      "execution_count": null,
      "outputs": [
        {
          "output_type": "execute_result",
          "data": {
            "text/plain": [
              "array([ 1,  2,  3,  4,  5,  6,  7,  8,  9, 10, 11, 12, 13, 14, 15, 16, 17,\n",
              "       18, 19, 20, 21, 22, 23, 24])"
            ]
          },
          "metadata": {},
          "execution_count": 13
        }
      ]
    },
    {
      "cell_type": "code",
      "source": [
        "# examples\n",
        "\n",
        "# 1. Adding a scalar value with the array\n",
        "\n",
        "a = np.array([10,20,30])\n",
        "result = a + 5\n",
        "result"
      ],
      "metadata": {
        "colab": {
          "base_uri": "https://localhost:8080/"
        },
        "id": "e7zMcvtsYjsR",
        "outputId": "b7e6ab08-729b-488b-96b1-282ddbe2d3bc"
      },
      "execution_count": null,
      "outputs": [
        {
          "output_type": "execute_result",
          "data": {
            "text/plain": [
              "array([15, 25, 35])"
            ]
          },
          "metadata": {},
          "execution_count": 14
        }
      ]
    },
    {
      "cell_type": "code",
      "source": [
        "# 2. Adding two arrays of different shapes\n",
        "\n",
        "a = np.array([[10,20],[30,40],[50,60]]) # size (3,2)\n",
        "a1 = np.array([2,4]) # size (2,)\n",
        "result = a+a1\n",
        "result"
      ],
      "metadata": {
        "colab": {
          "base_uri": "https://localhost:8080/"
        },
        "id": "Xm52udWVZ2-2",
        "outputId": "76031ef3-d39c-4c19-9f46-98732d7b22d8"
      },
      "execution_count": null,
      "outputs": [
        {
          "output_type": "execute_result",
          "data": {
            "text/plain": [
              "array([[12, 24],\n",
              "       [32, 44],\n",
              "       [52, 64]])"
            ]
          },
          "metadata": {},
          "execution_count": 15
        }
      ]
    },
    {
      "cell_type": "code",
      "source": [
        "# 3. Adding a column vector with a matrix\n",
        "a = np.array([[10,20,30],[40,50,60]])\n",
        "a1 = np.array([[10],[20]])\n",
        "result = a+a1\n",
        "result"
      ],
      "metadata": {
        "colab": {
          "base_uri": "https://localhost:8080/"
        },
        "id": "dZIRh-IJaRXM",
        "outputId": "55659812-205a-48ec-fbf3-9f21623e5a0b"
      },
      "execution_count": null,
      "outputs": [
        {
          "output_type": "execute_result",
          "data": {
            "text/plain": [
              "array([[20, 30, 40],\n",
              "       [60, 70, 80]])"
            ]
          },
          "metadata": {},
          "execution_count": 17
        }
      ]
    },
    {
      "cell_type": "code",
      "source": [
        "#Setting a value with index range (Broadcasting)\n",
        "\n",
        "a = np.arange(1,26)\n",
        "a"
      ],
      "metadata": {
        "colab": {
          "base_uri": "https://localhost:8080/"
        },
        "id": "Vpxyxa_KbIc8",
        "outputId": "8cb358e2-c43c-4d1a-c2a3-661b3de370ab"
      },
      "execution_count": null,
      "outputs": [
        {
          "output_type": "execute_result",
          "data": {
            "text/plain": [
              "array([ 1,  2,  3,  4,  5,  6,  7,  8,  9, 10, 11, 12, 13, 14, 15, 16, 17,\n",
              "       18, 19, 20, 21, 22, 23, 24, 25])"
            ]
          },
          "metadata": {},
          "execution_count": 18
        }
      ]
    },
    {
      "cell_type": "code",
      "source": [
        "a_copy = a.copy()\n",
        "print(f\"Before brodcasting{a_copy}\")\n",
        "\n",
        "a_copy[0:5] = 1000\n",
        "print(f\"After broadcasting{a_copy}\")"
      ],
      "metadata": {
        "colab": {
          "base_uri": "https://localhost:8080/"
        },
        "id": "imwJN7dvbsTo",
        "outputId": "f96b40ed-dd57-4e5f-d05d-1f1c05db2030"
      },
      "execution_count": null,
      "outputs": [
        {
          "output_type": "stream",
          "name": "stdout",
          "text": [
            "Before brodcasting[ 1  2  3  4  5  6  7  8  9 10 11 12 13 14 15 16 17 18 19 20 21 22 23 24\n",
            " 25]\n",
            "After broadcasting[1000 1000 1000 1000 1000    6    7    8    9   10   11   12   13   14\n",
            "   15   16   17   18   19   20   21   22   23   24   25]\n"
          ]
        }
      ]
    },
    {
      "cell_type": "markdown",
      "source": [
        "# Selection\n",
        "Let's briefly go over how to use brackets for selection based off of comparison operators."
      ],
      "metadata": {
        "id": "QLiEjI4Lc55J"
      }
    },
    {
      "cell_type": "code",
      "source": [
        "a>5"
      ],
      "metadata": {
        "colab": {
          "base_uri": "https://localhost:8080/"
        },
        "id": "8xK8j6j2b9eE",
        "outputId": "f5163174-d4fc-499f-8b34-98bdee0f68ec"
      },
      "execution_count": null,
      "outputs": [
        {
          "output_type": "execute_result",
          "data": {
            "text/plain": [
              "array([False, False, False, False, False,  True,  True,  True,  True,\n",
              "        True,  True,  True,  True,  True,  True,  True,  True,  True,\n",
              "        True,  True,  True,  True,  True,  True,  True])"
            ]
          },
          "metadata": {},
          "execution_count": 24
        }
      ]
    },
    {
      "cell_type": "code",
      "source": [
        "# Print numbers >5\n",
        "a[a>5]"
      ],
      "metadata": {
        "colab": {
          "base_uri": "https://localhost:8080/"
        },
        "id": "K-Wewt9qc_TJ",
        "outputId": "f9137a1d-4cc6-4529-d42e-316ae8cecee3"
      },
      "execution_count": null,
      "outputs": [
        {
          "output_type": "execute_result",
          "data": {
            "text/plain": [
              "array([ 6,  7,  8,  9, 10, 11, 12, 13, 14, 15, 16, 17, 18, 19, 20, 21, 22,\n",
              "       23, 24, 25])"
            ]
          },
          "metadata": {},
          "execution_count": 25
        }
      ]
    },
    {
      "cell_type": "code",
      "source": [
        "# instead of 'and' we use '&' in numpy with parentheses\n",
        "# Similarly instead of \"or\" we use \"|\" in numpy with parentheses else there will be an error\n",
        "\n",
        "a[(a<15) & (a>10)]"
      ],
      "metadata": {
        "colab": {
          "base_uri": "https://localhost:8080/"
        },
        "id": "kOubMRVOdOV_",
        "outputId": "fba9136e-a555-4cab-cd98-4dcbe120b444"
      },
      "execution_count": null,
      "outputs": [
        {
          "output_type": "execute_result",
          "data": {
            "text/plain": [
              "array([11, 12, 13, 14])"
            ]
          },
          "metadata": {},
          "execution_count": 28
        }
      ]
    },
    {
      "cell_type": "code",
      "source": [
        "a[(a<15) | (a>10)]"
      ],
      "metadata": {
        "colab": {
          "base_uri": "https://localhost:8080/"
        },
        "id": "eK6jEg7ddpvI",
        "outputId": "d0bd016c-d04d-4239-8af0-ade9fe2c4269"
      },
      "execution_count": null,
      "outputs": [
        {
          "output_type": "execute_result",
          "data": {
            "text/plain": [
              "array([ 1,  2,  3,  4,  5,  6,  7,  8,  9, 10, 11, 12, 13, 14, 15, 16, 17,\n",
              "       18, 19, 20, 21, 22, 23, 24, 25])"
            ]
          },
          "metadata": {},
          "execution_count": 29
        }
      ]
    },
    {
      "cell_type": "code",
      "source": [],
      "metadata": {
        "id": "YZXmKl0IeFze"
      },
      "execution_count": null,
      "outputs": []
    }
  ]
}